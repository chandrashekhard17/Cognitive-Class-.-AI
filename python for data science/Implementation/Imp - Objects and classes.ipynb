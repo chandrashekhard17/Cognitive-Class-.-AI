{
 "cells": [
  {
   "cell_type": "code",
   "execution_count": 1,
   "id": "f35a5c7d-9cc9-4efa-afbb-569d251df581",
   "metadata": {
    "tags": []
   },
   "outputs": [],
   "source": [
    "class Car(object):\n",
    "    def __init__(self,make,model,color):\n",
    "        self.make=make\n",
    "        self.model=model\n",
    "        self.color=color\n",
    "        self.owner_number=0\n",
    "    def car_info(self):\n",
    "        print(\"make:\",self.make)\n",
    "        print(\"model:\",self.model)\n",
    "        print(\"color:\",self.color)\n",
    "    def sell(self):\n",
    "        self.owner_number=self.owner_number+1\n",
    "        print(\"owner number is:\",self.owner_number)"
   ]
  },
  {
   "cell_type": "code",
   "execution_count": 2,
   "id": "ae8c28d2-ddca-45fa-a725-468b6b6877ff",
   "metadata": {
    "tags": []
   },
   "outputs": [],
   "source": [
    "make=\"BMW\"\n",
    "model=\"M3\"\n",
    "color=\"red\""
   ]
  },
  {
   "cell_type": "code",
   "execution_count": 3,
   "id": "bacf422b-23ac-4a7b-aee6-1bc466cf3bc3",
   "metadata": {
    "tags": []
   },
   "outputs": [],
   "source": [
    "c1=Car(make,model,color)\n"
   ]
  },
  {
   "cell_type": "code",
   "execution_count": 4,
   "id": "e0eb2d66-45c9-48bc-aedc-f9e27a9fd909",
   "metadata": {
    "tags": []
   },
   "outputs": [
    {
     "data": {
      "text/plain": [
       "<__main__.Car at 0x7f3c50262890>"
      ]
     },
     "execution_count": 4,
     "metadata": {},
     "output_type": "execute_result"
    }
   ],
   "source": [
    "c1"
   ]
  },
  {
   "cell_type": "code",
   "execution_count": 5,
   "id": "50061e12-da73-4933-8d26-9595858e26a2",
   "metadata": {
    "tags": []
   },
   "outputs": [
    {
     "name": "stdout",
     "output_type": "stream",
     "text": [
      "make: BMW\n",
      "model: M3\n",
      "color: red\n"
     ]
    }
   ],
   "source": [
    "c1.car_info()"
   ]
  },
  {
   "cell_type": "code",
   "execution_count": 6,
   "id": "6abedf4e-96d0-45a7-9952-b289f729e88e",
   "metadata": {
    "tags": []
   },
   "outputs": [
    {
     "name": "stdout",
     "output_type": "stream",
     "text": [
      "owner number is: 1\n"
     ]
    }
   ],
   "source": [
    "c1.sell()"
   ]
  },
  {
   "cell_type": "code",
   "execution_count": null,
   "id": "a807ddbe-473a-4cd8-8c7e-49457ce7c129",
   "metadata": {},
   "outputs": [],
   "source": []
  }
 ],
 "metadata": {
  "kernelspec": {
   "display_name": "Python",
   "language": "python",
   "name": "conda-env-python-py"
  },
  "language_info": {
   "codemirror_mode": {
    "name": "ipython",
    "version": 3
   },
   "file_extension": ".py",
   "mimetype": "text/x-python",
   "name": "python",
   "nbconvert_exporter": "python",
   "pygments_lexer": "ipython3",
   "version": "3.7.12"
  }
 },
 "nbformat": 4,
 "nbformat_minor": 5
}
