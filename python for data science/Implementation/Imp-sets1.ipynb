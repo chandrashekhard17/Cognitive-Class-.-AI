{
 "cells": [
  {
   "cell_type": "code",
   "execution_count": 1,
   "id": "e7b628ec-f9e5-4c0f-8114-84e105fb5c3f",
   "metadata": {
    "tags": []
   },
   "outputs": [
    {
     "data": {
      "text/plain": [
       "['A', 'B', 'C', 'A', 'B', 'C']"
      ]
     },
     "execution_count": 1,
     "metadata": {},
     "output_type": "execute_result"
    }
   ],
   "source": [
    "['A','B','C','A','B','C']"
   ]
  },
  {
   "cell_type": "markdown",
   "id": "874fafad-301e-45c4-b323-f1ba82cbad3f",
   "metadata": {
    "tags": []
   },
   "source": [
    "## convert this list into the sets"
   ]
  },
  {
   "cell_type": "code",
   "execution_count": 3,
   "id": "0bdfd7eb-188a-402b-9094-7e6211dfb97e",
   "metadata": {
    "tags": []
   },
   "outputs": [],
   "source": [
    "list1=['A','B','C','A','B','C']\n",
    "sets=set(list1)"
   ]
  },
  {
   "cell_type": "code",
   "execution_count": 4,
   "id": "028b750f-ab5d-43bc-b955-d2dff7cbba4f",
   "metadata": {
    "tags": []
   },
   "outputs": [
    {
     "data": {
      "text/plain": [
       "{'A', 'B', 'C'}"
      ]
     },
     "execution_count": 4,
     "metadata": {},
     "output_type": "execute_result"
    }
   ],
   "source": [
    "sets"
   ]
  },
  {
   "cell_type": "code",
   "execution_count": 5,
   "id": "fb6870ea-7494-425f-b771-994b58a8fb5a",
   "metadata": {
    "tags": []
   },
   "outputs": [],
   "source": [
    "S={'A','B','C'}\n",
    "S.add('D')"
   ]
  },
  {
   "cell_type": "code",
   "execution_count": 6,
   "id": "abfcbbc1-198c-440c-a149-9ae86a2cbf6f",
   "metadata": {
    "tags": []
   },
   "outputs": [
    {
     "data": {
      "text/plain": [
       "{'A', 'B', 'C', 'D'}"
      ]
     },
     "execution_count": 6,
     "metadata": {},
     "output_type": "execute_result"
    }
   ],
   "source": [
    "S"
   ]
  },
  {
   "cell_type": "code",
   "execution_count": 7,
   "id": "2fdf4b42-7031-48da-910b-6c922146eb17",
   "metadata": {
    "tags": []
   },
   "outputs": [],
   "source": [
    "A={1,2,3,4,5}\n",
    "B={1,3,9, 12}\n"
   ]
  },
  {
   "cell_type": "code",
   "execution_count": null,
   "id": "21c84774-564e-4c18-9f85-7fcb3eeb128c",
   "metadata": {},
   "outputs": [],
   "source": [
    "A&"
   ]
  }
 ],
 "metadata": {
  "kernelspec": {
   "display_name": "Python",
   "language": "python",
   "name": "conda-env-python-py"
  },
  "language_info": {
   "codemirror_mode": {
    "name": "ipython",
    "version": 3
   },
   "file_extension": ".py",
   "mimetype": "text/x-python",
   "name": "python",
   "nbconvert_exporter": "python",
   "pygments_lexer": "ipython3",
   "version": "3.7.12"
  }
 },
 "nbformat": 4,
 "nbformat_minor": 5
}
